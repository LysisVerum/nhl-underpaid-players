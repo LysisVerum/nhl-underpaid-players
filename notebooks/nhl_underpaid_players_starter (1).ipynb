{
 "cells": [
  {
   "cell_type": "markdown",
   "id": "0c096c7d",
   "metadata": {},
   "source": [
    "# 🏒 NHL Underpaid Players Analysis\n",
    "## 🔍 Objective\n",
    "Use salary and performance data to identify NHL players who are underpaid relative to their on-ice contributions.\n"
   ]
  },
  {
   "cell_type": "markdown",
   "id": "79b36e40",
   "metadata": {},
   "source": [
    "## 📥 Step 1: Load Data"
   ]
  },
  {
   "cell_type": "code",
   "execution_count": null,
   "id": "22cfdfde",
   "metadata": {},
   "outputs": [],
   "source": [
    "import pandas as pd\n",
    "\n",
    "# Load salary data\n",
    "salary_url = 'https://raw.githubusercontent.com/dword4/nhl-contracts/master/player_stats.csv'\n",
    "salary_df = pd.read_csv(salary_url)\n",
    "salary_df.head()"
   ]
  },
  {
   "cell_type": "code",
   "execution_count": null,
   "id": "f38e78f0",
   "metadata": {},
   "outputs": [],
   "source": [
    "# Load performance data (xGoals, WAR, etc.)\n",
    "perf_url = 'https://www.moneypuck.com/moneypuck/playerData/seasonSummary/2023/regular/oniceGoalRates.csv'\n",
    "perf_df = pd.read_csv(perf_url)\n",
    "perf_df.head()"
   ]
  },
  {
   "cell_type": "markdown",
   "id": "59171ebf",
   "metadata": {},
   "source": [
    "## 🧼 Step 2: Clean & Merge Data\n",
    "- Standardize player names\n",
    "- Filter to regular skaters (exclude G)\n",
    "- Join datasets on player name"
   ]
  },
  {
   "cell_type": "markdown",
   "id": "ee664783",
   "metadata": {},
   "source": [
    "## 📊 Step 3: Create Efficiency Metrics"
   ]
  },
  {
   "cell_type": "code",
   "execution_count": null,
   "id": "ccb360d0",
   "metadata": {},
   "outputs": [],
   "source": [
    "# Example: Goals Above Expected per $1M cap hit\n",
    "# (Add merge logic and actual metric creation once data is aligned)"
   ]
  },
  {
   "cell_type": "markdown",
   "id": "082a939b",
   "metadata": {},
   "source": [
    "## 📈 Step 4: Visualize Insights\n",
    "- Scatter plot: Cap Hit vs xGoals or WAR\n",
    "- Top 10 value picks (bar chart)"
   ]
  },
  {
   "cell_type": "markdown",
   "id": "b405235a",
   "metadata": {},
   "source": [
    "## 📌 Step 5: Conclusions + Recommendations\n",
    "- Summary of findings\n",
    "- What makes a player “undervalued”?\n",
    "- What types of contracts stand out?"
   ]
  }
 ],
 "metadata": {},
 "nbformat": 4,
 "nbformat_minor": 5
}
